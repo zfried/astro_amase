{
 "cells": [
  {
   "cell_type": "code",
   "execution_count": 1,
   "id": "5ec4d7a5",
   "metadata": {},
   "outputs": [
    {
     "name": "stderr",
     "output_type": "stream",
     "text": [
      "/Users/zacharyfried/miniconda3/envs/astro_pip_test/lib/python3.11/site-packages/pydantic/_internal/_generate_schema.py:2249: UnsupportedFieldAttributeWarning: The 'repr' attribute with value False was provided to the `Field()` function, which has no effect in the context it was used. 'repr' is field-specific metadata, and can only be attached to a model field using `Annotated` metadata or by assignment. This may have happened because an `Annotated` type alias using the `type` statement was used, or if the `Field()` function was attached to a single member of a union type.\n",
      "  warnings.warn(\n",
      "/Users/zacharyfried/miniconda3/envs/astro_pip_test/lib/python3.11/site-packages/pydantic/_internal/_generate_schema.py:2249: UnsupportedFieldAttributeWarning: The 'frozen' attribute with value True was provided to the `Field()` function, which has no effect in the context it was used. 'frozen' is field-specific metadata, and can only be attached to a model field using `Annotated` metadata or by assignment. This may have happened because an `Annotated` type alias using the `type` statement was used, or if the `Field()` function was attached to a single member of a union type.\n",
      "  warnings.warn(\n",
      "/Users/zacharyfried/miniconda3/envs/astro_pip_test/lib/python3.11/pickle.py:1580: DeprecationWarning: `torch.distributed._sharded_tensor` will be deprecated, use `torch.distributed._shard.sharded_tensor` instead\n",
      "  __import__(module, level=0)\n"
     ]
    }
   ],
   "source": [
    "import astro_amase\n",
    "import pandas as pd\n",
    "import matplotlib.pyplot as plt\n"
   ]
  },
  {
   "cell_type": "code",
   "execution_count": 3,
   "id": "92ec4832-8bb0-4d5d-a5d8-6f99d89ef229",
   "metadata": {},
   "outputs": [
    {
     "name": "stdout",
     "output_type": "stream",
     "text": [
      "                           .        *        .\n",
      "               *                 .             *\n",
      "                       .    *    ✦    *    .\n",
      "               *                 .             *\n",
      "                           .        *        .\n",
      "\n",
      "\n",
      "╔══════════════════════════════════════════════════════════╗\n",
      "║                      Astro AMASE                         ║\n",
      "║                     Version 1.0.0                        ║\n",
      "╠══════════════════════════════════════════════════════════╣\n",
      "║                                                          ║\n",
      "║                        Greetings!                        ║\n",
      "║         This code will help you automatically            ║\n",
      "║  identify molecules in radio astronomical observations   ║\n",
      "║                                                          ║\n",
      "║     If you have any questions, issues, or feedback       ║\n",
      "║            please email zfried@mit.edu                   ║\n",
      "║                                                          ║\n",
      "║             Started: 2025-10-16 08:48:01                 ║\n",
      "╚══════════════════════════════════════════════════════════╝\n",
      "\n",
      "=== Loading Observational Data ===\n",
      "\n",
      "=== User-Inputted Parameters ===\n",
      "Spectrum path: /Users/zacharyfried/Desktop/nrao_2025/astro_analysis/pils_16ghz.txt\n",
      "Directory path: /Users/zacharyfried/Desktop/nrao_2025/astro_analysis/\n",
      "Observation type: Interferometric\n",
      "Beam major axis: 0.4 arcsec\n",
      "Beam minor axis: 0.4 arcsec\n",
      "Sigma threshold: 5.0\n",
      "Inputted exact temperature: 170.0 K\n",
      "Algorithm will use this temperature for analysis\n",
      "VLSR known: False\n",
      "Code will determine best-fit vlsr\n",
      "Source size: 1e+20 arcsec\n",
      "Continuum temperature: 2.7 K\n",
      "Valid atoms: C, O, H, N, S\n",
      "Manual RMS noise: 1 K\n",
      "========================================\n",
      "\n",
      "=== Determining Linewidth ===\n",
      "finding linewidth!\n",
      "Velocity Linewidth (km/s)\n",
      "1.1\n",
      "Frequency Linewidth (MHz)\n",
      "1.27\n",
      "\n",
      "=== Determining VLSR and Temperature ===\n",
      "Determining VLSR now!\n",
      "[(np.int64(53), np.float64(-1.8229728377973262), np.float64(0.37656261589237106)), (np.int64(53), np.float64(-1.8371029930172513), np.float64(0.36243246067244617)), (np.int64(52), np.float64(-0.8011488497515781), np.float64(1.3983866039381194)), (np.int64(52), np.float64(-0.8422223038932037), np.float64(1.3573131497964936)), (np.int64(52), np.float64(-0.9114646975663134), np.float64(1.288070756123384)), (np.int64(52), np.float64(-0.9206109308777155), np.float64(1.2789245228119819)), (np.int64(52), np.float64(-0.9257443178072506), np.float64(1.2737911358824467)), (np.int64(52), np.float64(-0.9258316569873423), np.float64(1.2737037967023552)), (np.int64(52), np.float64(-0.9539206700645897), np.float64(1.2456147836251077)), (np.int64(52), np.float64(-0.9906924386200561), np.float64(1.2088430150696414))]\n",
      "Determined VLSR: -0.15 km/s\n",
      "Determined (or inputted) Temperature: 170.0 K\n",
      "\n",
      "Time for linewidth/VLSR determination: 0.79 minutes\n",
      "\n",
      "=== Detecting Spectral Peaks ===\n",
      "\n",
      "Number of peaks at 5.0 sigma significance in the spectrum: 929\n",
      "\n",
      "RMS noise: 1 K\n",
      "\n",
      "=== Creating Molecular Candidate Dataset ===\n",
      "Scraping catalogs and creating dataset...\n",
      "\n",
      "Dataset creation time: 0.46 minutes\n",
      "\n",
      "=== Assigning Molecular Lines ===\n",
      "Loading dataset from /Users/zacharyfried/Desktop/nrao_2025/astro_analysis/...\n",
      "Loaded 929 spectral lines\n",
      "Found 275 unique molecular candidates\n",
      "Creating candidate scores for all lines...\n",
      "Added candidates to 929 lines\n",
      "\n",
      "Starting iterative assignment algorithm...\n",
      "Performing one-time static checks on all candidates...\n"
     ]
    },
    {
     "name": "stderr",
     "output_type": "stream",
     "text": [
      "[08:49:18] Explicit valence for atom # 1 Si, 4, is greater than permitted\n",
      "[08:49:20] Explicit valence for atom # 1 Si, 4, is greater than permitted\n"
     ]
    },
    {
     "name": "stdout",
     "output_type": "stream",
     "text": [
      "Starting iterative line assignment...\n",
      "Progress: |--------------------------------------------------| 0.86% Complete   "
     ]
    },
    {
     "name": "stderr",
     "output_type": "stream",
     "text": [
      "Exception ignored in: <bound method IPythonKernel._clean_thread_parent_frames of <ipykernel.ipkernel.IPythonKernel object at 0x1064ed1d0>>\n",
      "Traceback (most recent call last):\n",
      "  File \"/Users/zacharyfried/miniconda3/envs/astro_pip_test/lib/python3.11/site-packages/ipykernel/ipkernel.py\", line 797, in _clean_thread_parent_frames\n",
      "    def _clean_thread_parent_frames(\n",
      "\n",
      "KeyboardInterrupt: \n"
     ]
    },
    {
     "name": "stdout",
     "output_type": "stream",
     "text": [
      "Progress: |██████████████████████████████████████████████████| 100.00% Complete \n",
      "\n",
      "Performing final convergence check...\n",
      "Final iteration 1...\n",
      "Converged!\n",
      "\n",
      "============================================================\n",
      "ASSIGNMENT COMPLETE\n",
      "============================================================\n",
      "Line assignment time: 1.01 minutes\n",
      "\n",
      "=== Fitting Best-Fit Model ===\n",
      "Fitting iteration 1/2\n",
      "   Iteration     Total nfev        Cost      Cost reduction    Step norm     Optimality   \n",
      "       0              1         5.9816e+05                                    2.15e+09    \n",
      "       1              2         2.9188e+05      3.06e+05       8.10e+16       3.17e+08    \n",
      "       2              3         2.8404e+05      7.84e+03       4.99e+15       9.03e+07    \n",
      "       3              4         2.8013e+05      3.91e+03       2.80e+15       2.50e+06    \n",
      "       4              5         2.7947e+05      6.51e+02       8.47e+14       2.96e+05    \n",
      "       5              6         2.7933e+05      1.42e+02       2.94e+14       1.10e+05    \n",
      "       6              7         2.7928e+05      4.90e+01       3.41e+14       6.93e+06    \n",
      "       7              8         2.7927e+05      1.28e+01       1.53e+14       3.30e+06    \n",
      "       8              9         2.7927e+05      1.96e+00       6.40e+13       6.12e+05    \n",
      "       9             10         2.7927e+05      1.56e-01       1.55e+13       3.25e+04    \n",
      "`ftol` termination condition is satisfied.\n",
      "Function evaluations 10, initial cost 5.9816e+05, final cost 2.7927e+05, first-order optimality 3.25e+04.\n",
      "Fitting iteration 2/2\n",
      "   Iteration     Total nfev        Cost      Cost reduction    Step norm     Optimality   \n",
      "       0              1         2.7993e+05                                    5.54e+07    \n",
      "       1              2         2.7992e+05      1.66e+01       8.12e+14       2.25e+06    \n",
      "       2              3         2.7991e+05      1.35e+00       3.21e+13       4.06e+04    \n",
      "       3              4         2.7991e+05      3.75e-02       7.69e+12       2.70e+05    \n",
      "       4              7         2.7991e+05      2.30e-03       9.10e+11       2.37e+05    \n",
      "`ftol` termination condition is satisfied.\n",
      "Function evaluations 7, initial cost 2.7993e+05, final cost 2.7991e+05, first-order optimality 2.37e+05.\n",
      "Interactive plot saved to /Users/zacharyfried/Desktop/nrao_2025/astro_analysis/fit_spectrum.html\n",
      "Best-fit model time: 0.45 minutes\n",
      "Removing 11 molecules from consideration...\n",
      "Reassigning lines based on updated scores...\n",
      "Writing output report to /Users/zacharyfried/Desktop/nrao_2025/astro_analysis/output_report.txt...\n",
      "Output report complete!\n",
      "\n",
      "=== Analysis Complete ===\n",
      "Total execution time: 2.71 minutes\n",
      "\n",
      "Results saved to: /Users/zacharyfried/Desktop/nrao_2025/astro_analysis/\n",
      "  - fit_spectrum.html: Interactive plot of fitted spectra\n",
      "  - final_peak_results.csv: Molecular assignments for each line\n",
      "  - output_report.txt: Detailed assignment report\n",
      "  - column_density_results.csv: Best-fit column densities\n",
      "{'total_lines': 929, 'assigned_lines': 742, 'unidentified_lines': 160, 'assigned_molecules': 57}\n",
      "-0.14833265739167237\n",
      "170.0\n"
     ]
    }
   ],
   "source": [
    "results = astro_amase.assign_observations(spectrum_path='/Users/zacharyfried/Desktop/nrao_2025/astro_analysis/pils_16ghz.txt',\n",
    "                               directory_path = '/Users/zacharyfried/Desktop/nrao_2025/astro_analysis',\n",
    "                               temperature=170,  # Initial guess\n",
    "                               temperature_is_exact=True,\n",
    "                               sigma_theshold = 5,\n",
    "                               rms_noise = 1,\n",
    "                               observation_type = 'interferometric',\n",
    "                               beam_major_axis = 0.4,\n",
    "                               beam_minor_axis = 0.4,\n",
    "                               continuum_temperature = 2.7,\n",
    "                               valid_atoms = ['C', 'O', 'H', 'N', 'S'])\n",
    "\n",
    "\n",
    "print(results['statistics'])\n",
    "print(results['vlsr'])\n",
    "print(results['temperature'])"
   ]
  },
  {
   "cell_type": "code",
   "execution_count": 7,
   "id": "e03dd187-b35d-4514-b97f-7763398923ed",
   "metadata": {
    "scrolled": true
   },
   "outputs": [
    {
     "name": "stdout",
     "output_type": "stream",
     "text": [
      "                           .        *        .\n",
      "               *                 .             *\n",
      "                       .    *    ✦    *    .\n",
      "               *                 .             *\n",
      "                           .        *        .\n",
      "\n",
      "\n",
      "╔══════════════════════════════════════════════════════════╗\n",
      "║                      Astro AMASE                         ║\n",
      "║                     Version 1.0.0                        ║\n",
      "╠══════════════════════════════════════════════════════════╣\n",
      "║                                                          ║\n",
      "║                        Greetings!                        ║\n",
      "║         This code will help you automatically            ║\n",
      "║  identify molecules in radio astronomical observations   ║\n",
      "║                                                          ║\n",
      "║     If you have any questions, issues, or feedback       ║\n",
      "║            please email zfried@mit.edu                   ║\n",
      "║                                                          ║\n",
      "║             Started: 2025-10-15 10:27:57                 ║\n",
      "╚══════════════════════════════════════════════════════════╝\n",
      "\n",
      "=== Loading Observational Data ===\n",
      "\n",
      "=== User-Inputted Parameters ===\n",
      "Spectrum path: /Users/zacharyfried/Desktop/nrao_2025/astro_analysis/pils_16ghz.txt\n",
      "Directory path: /Users/zacharyfried/Desktop/nrao_2025/astro_analysis/\n",
      "Observation type: Interferometric\n",
      "Beam major axis: 0.4 arcsec\n",
      "Beam minor axis: 0.4 arcsec\n",
      "Sigma threshold: 5.0\n",
      "Inputted exact temperature: 170.0 K\n",
      "Algorithm will use this temperature for analysis\n",
      "VLSR known: True\n",
      "VLSR input: 0 km/s\n",
      "Source size: 1e+20 arcsec\n",
      "Continuum temperature: 2.7 K\n",
      "Valid atoms: C, O, H, N, S\n",
      "Manual RMS noise: 1 K\n",
      "========================================\n",
      "\n",
      "=== Determining Linewidth ===\n",
      "finding linewidth!\n",
      "Velocity Linewidth (km/s)\n",
      "1.1\n",
      "Frequency Linewidth (MHz)\n",
      "1.27\n",
      "\n",
      "=== Determining VLSR and Temperature ===\n",
      "Input VLSR: 0 km/s\n",
      "Input Temperature: 170.0 K\n",
      "\n",
      "Time for linewidth/VLSR determination: 0.02 minutes\n",
      "\n",
      "=== Detecting Spectral Peaks ===\n",
      "\n",
      "Number of peaks at 5.0 sigma significance in the spectrum: 929\n",
      "\n",
      "RMS noise: 1 K\n",
      "\n",
      "=== Creating Molecular Candidate Dataset ===\n",
      "Scraping catalogs and creating dataset...\n",
      "\n",
      "Dataset creation time: 0.49 minutes\n",
      "\n",
      "=== Assigning Molecular Lines ===\n",
      "Loading dataset from /Users/zacharyfried/Desktop/nrao_2025/astro_analysis/...\n",
      "Loaded 929 spectral lines\n",
      "Found 273 unique molecular candidates\n",
      "Creating candidate scores for all lines...\n",
      "Added candidates to 929 lines\n",
      "\n",
      "Starting iterative assignment algorithm...\n",
      "Performing one-time static checks on all candidates...\n"
     ]
    },
    {
     "name": "stderr",
     "output_type": "stream",
     "text": [
      "[10:28:29] Explicit valence for atom # 1 Si, 4, is greater than permitted\n"
     ]
    },
    {
     "name": "stdout",
     "output_type": "stream",
     "text": [
      "Starting iterative line assignment...\n",
      "Progress: |██████████████████████████████████████████████████| 100.00% Complete \n",
      "\n",
      "Performing final convergence check...\n",
      "Final iteration 1...\n",
      "Final iteration 2...\n",
      "Converged!\n",
      "\n",
      "============================================================\n",
      "ASSIGNMENT COMPLETE\n",
      "============================================================\n",
      "Line assignment time: 0.91 minutes\n",
      "\n",
      "=== Fitting Best-Fit Model ===\n",
      "Fitting iteration 1/2\n",
      "   Iteration     Total nfev        Cost      Cost reduction    Step norm     Optimality   \n",
      "       0              1         5.9892e+05                                    2.04e+09    \n",
      "       1              2         3.0252e+05      2.96e+05       9.02e+16       1.71e+08    \n",
      "       2              3         2.9683e+05      5.69e+03       3.02e+15       7.51e+06    \n",
      "       3              4         2.9508e+05      1.75e+03       7.65e+15       3.23e+05    \n",
      "       4              5         2.9462e+05      4.67e+02       9.77e+14       7.02e+05    \n",
      "       5              6         2.9458e+05      3.87e+01       2.40e+14       4.80e+04    \n",
      "       6              7         2.9455e+05      2.68e+01       2.13e+14       9.47e+05    \n",
      "       7              8         2.9454e+05      1.01e+01       1.10e+14       1.89e+06    \n",
      "       8              9         2.9454e+05      3.58e-01       3.72e+13       2.81e+04    \n",
      "       9             10         2.9454e+05      2.01e-03       5.88e+11       4.14e+02    \n",
      "`ftol` termination condition is satisfied.\n",
      "Function evaluations 10, initial cost 5.9892e+05, final cost 2.9454e+05, first-order optimality 4.14e+02.\n",
      "Fitting iteration 2/2\n",
      "   Iteration     Total nfev        Cost      Cost reduction    Step norm     Optimality   \n",
      "       0              1         2.9513e+05                                    6.81e+07    \n",
      "       1              2         2.9512e+05      1.20e+01       9.43e+14       3.13e+06    \n",
      "       2              3         2.9512e+05      9.23e-03       1.63e+13       8.84e+03    \n",
      "       3              4         2.9512e+05      5.64e-08       1.01e+10       1.66e+01    \n",
      "`ftol` termination condition is satisfied.\n",
      "Function evaluations 4, initial cost 2.9513e+05, final cost 2.9512e+05, first-order optimality 1.66e+01.\n",
      "Interactive plot saved to /Users/zacharyfried/Desktop/nrao_2025/astro_analysis/fit_spectrum.html\n",
      "Best-fit model time: 0.4 minutes\n",
      "Removing 9 molecules from consideration...\n",
      "Reassigning lines based on updated scores...\n",
      "Writing output report to /Users/zacharyfried/Desktop/nrao_2025/astro_analysis/output_report.txt...\n",
      "Output report complete!\n",
      "\n",
      "=== Analysis Complete ===\n",
      "Total execution time: 1.82 minutes\n",
      "\n",
      "Results saved to: /Users/zacharyfried/Desktop/nrao_2025/astro_analysis/\n",
      "  - fit_spectrum.html: Interactive plot of fitted spectra\n",
      "  - final_peak_results.csv: Molecular assignments for each line\n",
      "  - output_report.txt: Detailed assignment report\n",
      "  - column_density_results.csv: Best-fit column densities\n",
      "{'total_lines': 929, 'assigned_lines': 771, 'unidentified_lines': 135, 'assigned_molecules': 57}\n",
      "0.0\n",
      "170.0\n"
     ]
    }
   ],
   "source": [
    "results = astro_amase.assign_observations(spectrum_path='/Users/zacharyfried/Desktop/nrao_2025/astro_analysis/pils_16ghz.txt',\n",
    "                               directory_path = '/Users/zacharyfried/Desktop/nrao_2025/astro_analysis',\n",
    "                               temperature=170,  # Initial guess\n",
    "                               temperature_is_exact=True,\n",
    "                               sigma_theshold = 5,\n",
    "                               rms_noise = 1,\n",
    "                               observation_type = 'interferometric',\n",
    "                               beam_major_axis = 0.4,\n",
    "                               beam_minor_axis = 0.4,\n",
    "                               continuum_temperature = 2.7,\n",
    "                               valid_atoms = ['C', 'O', 'H', 'N', 'S'],\n",
    "                               vlsr = 0)\n",
    "\n",
    "print(results['statistics'])\n",
    "print(results['vlsr'])\n",
    "print(results['temperature'])"
   ]
  },
  {
   "cell_type": "code",
   "execution_count": 3,
   "id": "e0e06798",
   "metadata": {},
   "outputs": [
    {
     "name": "stdout",
     "output_type": "stream",
     "text": [
      "finding linewidth!\n"
     ]
    },
    {
     "name": "stderr",
     "output_type": "stream",
     "text": [
      "/Users/zacharyfried/Desktop/nrao_2025/astro_analysis/code_versions/github_1_1/astro_amase/astro_amase/analysis/determine_linewidth.py:172: OptimizeWarning: Covariance of the parameters could not be estimated\n",
      "  params, covariance = curve_fit(gaussian, freqChunk, intChunk, p0=initial_guess)\n",
      "/Users/zacharyfried/Desktop/nrao_2025/astro_analysis/code_versions/github_1_1/astro_amase/astro_amase/analysis/determine_linewidth.py:212: OptimizeWarning: Covariance of the parameters could not be estimated\n",
      "  params, covariance = curve_fit(gaussian, freqChunk, intChunk, p0=initial_guess)\n"
     ]
    },
    {
     "name": "stdout",
     "output_type": "stream",
     "text": [
      "Velocity Linewidth (km/s)\n",
      "0.41\n",
      "Frequency Linewidth (MHz)\n",
      "0.15\n",
      "\n",
      "Number of peaks at 5.0 sigma significance in the spectrum: 713\n",
      "\n"
     ]
    },
    {
     "data": {
      "text/plain": [
       "{'linewidth_kms': np.float64(0.40915977225009115),\n",
       " 'linewidth_mhz': 0.15,\n",
       " 'consider_hyperfine': True,\n",
       " 'rms': 0.004733158399486097,\n",
       " 'resolution': np.float64(0.014300000002549496)}"
      ]
     },
     "execution_count": 3,
     "metadata": {},
     "output_type": "execute_result"
    }
   ],
   "source": [
    "astro_amase.get_linewidth(spectrum_path='/Users/zacharyfried/Desktop/nrao_2025/astro_analysis/gotham_dr5.3_downsampled10_18.txt')"
   ]
  },
  {
   "cell_type": "code",
   "execution_count": 2,
   "id": "a0ab0c61-e975-47f6-8b39-e04cb9b14479",
   "metadata": {},
   "outputs": [
    {
     "name": "stdout",
     "output_type": "stream",
     "text": [
      "\n",
      "=== Determining Source Parameters ===\n",
      "Loading spectrum...\n",
      "Determining linewidth...\n",
      "finding linewidth!\n"
     ]
    },
    {
     "name": "stderr",
     "output_type": "stream",
     "text": [
      "/Users/zacharyfried/Desktop/nrao_2025/astro_analysis/code_versions/github_1_1/astro_amase/astro_amase/analysis/determine_linewidth.py:172: OptimizeWarning: Covariance of the parameters could not be estimated\n",
      "  params, covariance = curve_fit(gaussian, freqChunk, intChunk, p0=initial_guess)\n",
      "/Users/zacharyfried/Desktop/nrao_2025/astro_analysis/code_versions/github_1_1/astro_amase/astro_amase/analysis/determine_linewidth.py:212: OptimizeWarning: Covariance of the parameters could not be estimated\n",
      "  params, covariance = curve_fit(gaussian, freqChunk, intChunk, p0=initial_guess)\n"
     ]
    },
    {
     "name": "stdout",
     "output_type": "stream",
     "text": [
      "Velocity Linewidth (km/s)\n",
      "0.41\n",
      "Frequency Linewidth (MHz)\n",
      "0.15\n",
      "Linewidth: 0.409 km/s (0.150 MHz)\n",
      "\n",
      "Number of peaks at 5.0 sigma significance in the spectrum: 713\n",
      "\n",
      "RMS noise: 4.73e-03 K\n",
      "\n",
      "Determining VLSR and temperature...\n",
      "Initial temperature guess: 10 K\n",
      "Determining VLSR now!\n",
      "Determined VLSR: 5.82 km/s\n",
      "Determined (or inputted) Temperature: 7.8 K\n",
      "\n",
      "Determined VLSR: 5.82 km/s\n",
      "Best-fit temperature: 7.8 K\n",
      "\n",
      "=== Parameter Determination Complete ===\n"
     ]
    },
    {
     "data": {
      "text/plain": [
       "{'linewidth_kms': 0.40915977225009115,\n",
       " 'linewidth_mhz': 0.15,\n",
       " 'vlsr': 5.819234264405496,\n",
       " 'temperature': 7.8,\n",
       " 'rms': 0.004733158399486097,\n",
       " 'resolution': 0.014300000002549496,\n",
       " 'mols_used_in_analysis': [np.str_('HC5N, v = 0'),\n",
       "  np.str_('NH3, v = 0'),\n",
       "  np.str_('c-C3H2'),\n",
       "  np.str_('HC13CCN, v = 0'),\n",
       "  np.str_('SO, v = 0')]}"
      ]
     },
     "execution_count": 2,
     "metadata": {},
     "output_type": "execute_result"
    }
   ],
   "source": [
    "astro_amase.get_source_parameters(spectrum_path='/Users/zacharyfried/Desktop/nrao_2025/astro_analysis/gotham_dr5.3_downsampled10_18.txt',\n",
    "                                   directory_path = '/Users/zacharyfried/Desktop/nrao_2025/astro_analysis',\n",
    "                                   temperature= 10,  # Initial guess, can vary up to 100K away from this value\n",
    "                                   observation_type = 'single_dish',\n",
    "                                   dish_diameter = 100,\n",
    "                                   continuum_temperature = 2.7)"
   ]
  },
  {
   "cell_type": "code",
   "execution_count": 2,
   "id": "cde9cd19-a3c8-4a88-918e-e749a5bec1dc",
   "metadata": {},
   "outputs": [
    {
     "name": "stdout",
     "output_type": "stream",
     "text": [
      "finding linewidth!\n"
     ]
    },
    {
     "name": "stderr",
     "output_type": "stream",
     "text": [
      "/Users/zacharyfried/Desktop/nrao_2025/astro_analysis/code_versions/github_1_1/astro_amase/astro_amase/analysis/determine_linewidth.py:368: OptimizeWarning: Covariance of the parameters could not be estimated\n",
      "  params, covariance = curve_fit(gaussian, freqChunk, intChunk, p0=initial_guess)\n",
      "/Users/zacharyfried/Desktop/nrao_2025/astro_analysis/code_versions/github_1_1/astro_amase/astro_amase/analysis/determine_linewidth.py:408: OptimizeWarning: Covariance of the parameters could not be estimated\n",
      "  params, covariance = curve_fit(gaussian, freqChunk, intChunk, p0=initial_guess)\n"
     ]
    },
    {
     "name": "stdout",
     "output_type": "stream",
     "text": [
      "Velocity Linewidth (km/s)\n",
      "0.41\n",
      "Frequency Linewidth (MHz)\n",
      "0.03\n",
      "\n",
      "Number of peaks at 5.0 sigma significance in the spectrum: 715\n",
      "\n"
     ]
    },
    {
     "data": {
      "text/plain": [
       "{'linewidth_kms': 0.40915977225009115,\n",
       " 'linewidth_mhz': 0.03257118241678494,\n",
       " 'consider_hyperfine': True,\n",
       " 'rms': 0.004733158399486097,\n",
       " 'resolution': 0.014300000002549496}"
      ]
     },
     "execution_count": 2,
     "metadata": {},
     "output_type": "execute_result"
    }
   ],
   "source": [
    "astro_amase.get_linewidth(spectrum_path='/Users/zacharyfried/Desktop/nrao_2025/astro_analysis/gotham_dr5.3_downsampled10_18.txt')"
   ]
  },
  {
   "cell_type": "code",
   "execution_count": null,
   "id": "4979afb8-88e6-496c-8713-faa50dae511d",
   "metadata": {},
   "outputs": [],
   "source": []
  }
 ],
 "metadata": {
  "kernelspec": {
   "display_name": "Python 3 (ipykernel)",
   "language": "python",
   "name": "python3"
  },
  "language_info": {
   "codemirror_mode": {
    "name": "ipython",
    "version": 3
   },
   "file_extension": ".py",
   "mimetype": "text/x-python",
   "name": "python",
   "nbconvert_exporter": "python",
   "pygments_lexer": "ipython3",
   "version": "3.11.13"
  }
 },
 "nbformat": 4,
 "nbformat_minor": 5
}
